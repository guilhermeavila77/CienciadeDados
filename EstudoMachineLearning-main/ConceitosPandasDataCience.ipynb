{
  "nbformat": 4,
  "nbformat_minor": 0,
  "metadata": {
    "colab": {
      "provenance": [],
      "authorship_tag": "ABX9TyNFNeZC6qBMA3gtmDEDmxBh",
      "include_colab_link": true
    },
    "kernelspec": {
      "name": "python3",
      "display_name": "Python 3"
    },
    "language_info": {
      "name": "python"
    }
  },
  "cells": [
    {
      "cell_type": "markdown",
      "metadata": {
        "id": "view-in-github",
        "colab_type": "text"
      },
      "source": [
        "<a href=\"https://colab.research.google.com/github/guilhermeavila77/EstudoMachineLearning/blob/main/ConceitosPandasDataCience.ipynb\" target=\"_parent\"><img src=\"https://colab.research.google.com/assets/colab-badge.svg\" alt=\"Open In Colab\"/></a>"
      ]
    },
    {
      "cell_type": "markdown",
      "source": [
        "IMPORTAÇÃO DOS DADOS"
      ],
      "metadata": {
        "id": "iwlcy4Ig42Gu"
      }
    },
    {
      "cell_type": "code",
      "execution_count": null,
      "metadata": {
        "id": "NlWhTeq_v-4i"
      },
      "outputs": [],
      "source": [
        "#conexão com o google drive\n",
        "from google.colab import drive\n",
        "drive.mount('/content/drive')"
      ]
    },
    {
      "cell_type": "code",
      "source": [
        "#importando e visualizando a base de dados\n",
        "import pandas as pd\n",
        "\n",
        "tabela = pd.read_csv(\"/content/drive/MyDrive/Curso analise de dados/titanic_train.csv\", encoding=\"latin1\")\n",
        "display(tabela)"
      ],
      "metadata": {
        "id": "MZU3cvZm2FHq"
      },
      "execution_count": null,
      "outputs": []
    },
    {
      "cell_type": "markdown",
      "source": [
        "VISUALIZAÇÕES PRIMARIAS DOS DADOS"
      ],
      "metadata": {
        "id": "m15w_Fj045wK"
      }
    },
    {
      "cell_type": "code",
      "source": [
        "#tamanho linha/coluna\n",
        "tabela.shape"
      ],
      "metadata": {
        "id": "syMWytAI2VKS"
      },
      "execution_count": null,
      "outputs": []
    },
    {
      "cell_type": "code",
      "source": [
        "#tipo dos dados \n",
        "tabela.dtypes"
      ],
      "metadata": {
        "id": "60YJdmua3J84"
      },
      "execution_count": null,
      "outputs": []
    },
    {
      "cell_type": "code",
      "source": [
        "#tipos de dados e valores não vazios\n",
        "tabela.info()"
      ],
      "metadata": {
        "id": "5x7zkkJv3tR4"
      },
      "execution_count": null,
      "outputs": []
    },
    {
      "cell_type": "code",
      "source": [
        "#contar valor vazio por coluna\n",
        "tabela.isnull().sum()"
      ],
      "metadata": {
        "id": "IhlC9iAl4AuP"
      },
      "execution_count": null,
      "outputs": []
    },
    {
      "cell_type": "markdown",
      "source": [
        "ESTATISTICAS DOS DADOS"
      ],
      "metadata": {
        "id": "C2g4Zzyy4-41"
      }
    },
    {
      "cell_type": "code",
      "source": [
        "#dados de exemplo para conceitos estatisticos\n",
        "\n",
        "dados = {\n",
        "    'X' : [1,2,3,4,5,6,7,8,9,10,11]\n",
        "}\n",
        "\n",
        "dados = pd.DataFrame(dados)"
      ],
      "metadata": {
        "id": "zmIflAIp5DRX"
      },
      "execution_count": 29,
      "outputs": []
    },
    {
      "cell_type": "code",
      "source": [
        "#media\n",
        "dados.mean()"
      ],
      "metadata": {
        "id": "yqz6tkV16hE_"
      },
      "execution_count": null,
      "outputs": []
    },
    {
      "cell_type": "code",
      "source": [
        "#contagem de registros\n",
        "dados.count()"
      ],
      "metadata": {
        "id": "LiBC8RCC6til"
      },
      "execution_count": null,
      "outputs": []
    },
    {
      "cell_type": "code",
      "source": [
        "#mediana\n",
        "dados.median()"
      ],
      "metadata": {
        "id": "CSpYFxsA7APC"
      },
      "execution_count": null,
      "outputs": []
    },
    {
      "cell_type": "code",
      "source": [
        "#desvio padrão (variação dos dados em relação a media)\n",
        "dados.std()"
      ],
      "metadata": {
        "id": "XU8-x-T_7MP7"
      },
      "execution_count": null,
      "outputs": []
    },
    {
      "cell_type": "code",
      "source": [
        "#resumo destas informações\n",
        "dados.describe()"
      ],
      "metadata": {
        "id": "Rd6mbtix77ZA"
      },
      "execution_count": null,
      "outputs": []
    },
    {
      "cell_type": "code",
      "source": [
        "tabela.describe()"
      ],
      "metadata": {
        "id": "7-AE2CL-8jGg"
      },
      "execution_count": null,
      "outputs": []
    },
    {
      "cell_type": "markdown",
      "source": [
        "Buscar por colunas"
      ],
      "metadata": {
        "id": "aiKLzgEn91AW"
      }
    },
    {
      "cell_type": "code",
      "source": [
        "# Podemos usar o nome da coluna entre aspas\n",
        "tabela['Survived']"
      ],
      "metadata": {
        "id": "C21oke_T90vJ"
      },
      "execution_count": null,
      "outputs": []
    },
    {
      "cell_type": "code",
      "source": [
        "# Ou usar o ponto\n",
        "tabela.Survived"
      ],
      "metadata": {
        "id": "yBMe3qKz95mY"
      },
      "execution_count": null,
      "outputs": []
    },
    {
      "cell_type": "code",
      "source": [
        "# Usando uma coluna, podemos contar a quantidade de vezes que cada valor aparece\n",
        "tabela.Survived.value_counts()"
      ],
      "metadata": {
        "id": "HsNpVuT599yX"
      },
      "execution_count": null,
      "outputs": []
    },
    {
      "cell_type": "code",
      "source": [
        "# Selecionando um conjunto de colunas\n",
        "tabela[['Survived','Sex','Age']]"
      ],
      "metadata": {
        "id": "cMGXb1Z0-Bfi"
      },
      "execution_count": null,
      "outputs": []
    },
    {
      "cell_type": "markdown",
      "source": [
        "Filtros"
      ],
      "metadata": {
        "id": "kefu9-Pm-XUt"
      }
    },
    {
      "cell_type": "code",
      "source": [
        "# Verificando clientes que pagaram mais de 100 libras \n",
        "tabela[tabela.Fare > 500]"
      ],
      "metadata": {
        "id": "8ei46Qao-W_4"
      },
      "execution_count": null,
      "outputs": []
    },
    {
      "cell_type": "code",
      "source": [
        "# Verificando se tiveram clientes que pagaram menos de 5 libre\n",
        "tabela[tabela.Fare < 5]"
      ],
      "metadata": {
        "id": "2yuGjO2E-k7n"
      },
      "execution_count": null,
      "outputs": []
    },
    {
      "cell_type": "markdown",
      "source": [
        "Filtrso booleanos "
      ],
      "metadata": {
        "id": "iygAoGR4-t69"
      }
    },
    {
      "cell_type": "code",
      "source": [
        "# Verificando se alguém viajou com esposa E filhos \n",
        "tabela[(tabela.Parch > 1) & (tabela.SibSp > 1)].head()"
      ],
      "metadata": {
        "id": "bjDQhZre-quM"
      },
      "execution_count": null,
      "outputs": []
    },
    {
      "cell_type": "markdown",
      "source": [
        "Gráficos"
      ],
      "metadata": {
        "id": "Cr1YaE8l_CQk"
      }
    },
    {
      "cell_type": "code",
      "source": [
        "import matplotlib.pyplot as plt"
      ],
      "metadata": {
        "id": "wVSP1PsU_Bqr"
      },
      "execution_count": 43,
      "outputs": []
    },
    {
      "cell_type": "code",
      "source": [
        "# É possível fazer um histograma simples\n",
        "tabela.Fare.hist(bins=100);"
      ],
      "metadata": {
        "id": "OQorHSjr_IUm"
      },
      "execution_count": null,
      "outputs": []
    },
    {
      "cell_type": "code",
      "source": [
        "# Gráficos de barras\n",
        "tabela.Pclass.plot.bar();"
      ],
      "metadata": {
        "id": "8Ozlg6dM_Jsx"
      },
      "execution_count": null,
      "outputs": []
    },
    {
      "cell_type": "code",
      "source": [
        "tabela.Pclass.value_counts().plot.bar();"
      ],
      "metadata": {
        "id": "NywZhBKD_LOP"
      },
      "execution_count": null,
      "outputs": []
    },
    {
      "cell_type": "code",
      "source": [
        "# E até gráficos mais complexos como o de densidade\n",
        "tabela['Fare'].plot.kde();"
      ],
      "metadata": {
        "id": "EZ9lTUzf_M0C"
      },
      "execution_count": null,
      "outputs": []
    }
  ]
}